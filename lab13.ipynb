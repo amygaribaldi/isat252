{
 "cells": [
  {
   "cell_type": "code",
   "execution_count": 2,
   "metadata": {},
   "outputs": [],
   "source": [
    "import pandas\n",
    "%matplotlib inline"
   ]
  },
  {
   "cell_type": "code",
   "execution_count": 3,
   "metadata": {},
   "outputs": [
    {
     "data": {
      "text/html": [
       "<div>\n",
       "<style scoped>\n",
       "    .dataframe tbody tr th:only-of-type {\n",
       "        vertical-align: middle;\n",
       "    }\n",
       "\n",
       "    .dataframe tbody tr th {\n",
       "        vertical-align: top;\n",
       "    }\n",
       "\n",
       "    .dataframe thead th {\n",
       "        text-align: right;\n",
       "    }\n",
       "</style>\n",
       "<table border=\"1\" class=\"dataframe\">\n",
       "  <thead>\n",
       "    <tr style=\"text-align: right;\">\n",
       "      <th></th>\n",
       "      <th>price</th>\n",
       "      <th>bathroom</th>\n",
       "      <th>house_type</th>\n",
       "      <th>lot_size</th>\n",
       "      <th>built_in</th>\n",
       "      <th>area</th>\n",
       "    </tr>\n",
       "  </thead>\n",
       "  <tbody>\n",
       "    <tr>\n",
       "      <th>0</th>\n",
       "      <td>159900</td>\n",
       "      <td>1</td>\n",
       "      <td>single-family home</td>\n",
       "      <td>5662</td>\n",
       "      <td>1924</td>\n",
       "      <td>1584</td>\n",
       "    </tr>\n",
       "    <tr>\n",
       "      <th>1</th>\n",
       "      <td>1100000</td>\n",
       "      <td>1</td>\n",
       "      <td>single-family home</td>\n",
       "      <td>4138200</td>\n",
       "      <td>1932</td>\n",
       "      <td>900</td>\n",
       "    </tr>\n",
       "    <tr>\n",
       "      <th>2</th>\n",
       "      <td>182000</td>\n",
       "      <td>2</td>\n",
       "      <td>condo</td>\n",
       "      <td>7405</td>\n",
       "      <td>1945</td>\n",
       "      <td>1622</td>\n",
       "    </tr>\n",
       "    <tr>\n",
       "      <th>3</th>\n",
       "      <td>169900</td>\n",
       "      <td>1</td>\n",
       "      <td>single-family home</td>\n",
       "      <td>36155</td>\n",
       "      <td>1950</td>\n",
       "      <td>1556</td>\n",
       "    </tr>\n",
       "    <tr>\n",
       "      <th>4</th>\n",
       "      <td>148500</td>\n",
       "      <td>1</td>\n",
       "      <td>single-family home</td>\n",
       "      <td>9147</td>\n",
       "      <td>1959</td>\n",
       "      <td>1000</td>\n",
       "    </tr>\n",
       "    <tr>\n",
       "      <th>5</th>\n",
       "      <td>444900</td>\n",
       "      <td>6</td>\n",
       "      <td>single-family home</td>\n",
       "      <td>28314</td>\n",
       "      <td>1961</td>\n",
       "      <td>5201</td>\n",
       "    </tr>\n",
       "    <tr>\n",
       "      <th>6</th>\n",
       "      <td>178000</td>\n",
       "      <td>2</td>\n",
       "      <td>single-family home</td>\n",
       "      <td>11326</td>\n",
       "      <td>1964</td>\n",
       "      <td>1188</td>\n",
       "    </tr>\n",
       "    <tr>\n",
       "      <th>7</th>\n",
       "      <td>209000</td>\n",
       "      <td>2</td>\n",
       "      <td>single-family home</td>\n",
       "      <td>9147</td>\n",
       "      <td>1966</td>\n",
       "      <td>1918</td>\n",
       "    </tr>\n",
       "    <tr>\n",
       "      <th>8</th>\n",
       "      <td>349900</td>\n",
       "      <td>2</td>\n",
       "      <td>single-family home</td>\n",
       "      <td>204732</td>\n",
       "      <td>1967</td>\n",
       "      <td>3850</td>\n",
       "    </tr>\n",
       "    <tr>\n",
       "      <th>9</th>\n",
       "      <td>1100000</td>\n",
       "      <td>2</td>\n",
       "      <td>single-family home</td>\n",
       "      <td>4356000</td>\n",
       "      <td>1970</td>\n",
       "      <td>2541</td>\n",
       "    </tr>\n",
       "  </tbody>\n",
       "</table>\n",
       "</div>"
      ],
      "text/plain": [
       "     price  bathroom           house_type  lot_size  built_in  area\n",
       "0   159900         1   single-family home      5662      1924  1584\n",
       "1  1100000         1   single-family home   4138200      1932   900\n",
       "2   182000         2                condo      7405      1945  1622\n",
       "3   169900         1   single-family home     36155      1950  1556\n",
       "4   148500         1   single-family home      9147      1959  1000\n",
       "5   444900         6   single-family home     28314      1961  5201\n",
       "6   178000         2   single-family home     11326      1964  1188\n",
       "7   209000         2   single-family home      9147      1966  1918\n",
       "8   349900         2   single-family home    204732      1967  3850\n",
       "9  1100000         2   single-family home   4356000      1970  2541"
      ]
     },
     "execution_count": 3,
     "metadata": {},
     "output_type": "execute_result"
    }
   ],
   "source": [
    "df = pandas.read_excel('s3://isat252gar/house_price.xls')\n",
    "df[:10]"
   ]
  },
  {
   "cell_type": "markdown",
   "metadata": {},
   "source": [
    "Calculate unit price"
   ]
  },
  {
   "cell_type": "code",
   "execution_count": 4,
   "metadata": {},
   "outputs": [
    {
     "data": {
      "text/html": [
       "<div>\n",
       "<style scoped>\n",
       "    .dataframe tbody tr th:only-of-type {\n",
       "        vertical-align: middle;\n",
       "    }\n",
       "\n",
       "    .dataframe tbody tr th {\n",
       "        vertical-align: top;\n",
       "    }\n",
       "\n",
       "    .dataframe thead th {\n",
       "        text-align: right;\n",
       "    }\n",
       "</style>\n",
       "<table border=\"1\" class=\"dataframe\">\n",
       "  <thead>\n",
       "    <tr style=\"text-align: right;\">\n",
       "      <th></th>\n",
       "      <th>price</th>\n",
       "      <th>bathroom</th>\n",
       "      <th>house_type</th>\n",
       "      <th>lot_size</th>\n",
       "      <th>built_in</th>\n",
       "      <th>area</th>\n",
       "      <th>unit_price</th>\n",
       "    </tr>\n",
       "  </thead>\n",
       "  <tbody>\n",
       "    <tr>\n",
       "      <th>0</th>\n",
       "      <td>159900</td>\n",
       "      <td>1</td>\n",
       "      <td>single-family home</td>\n",
       "      <td>5662</td>\n",
       "      <td>1924</td>\n",
       "      <td>1584</td>\n",
       "      <td>100.946970</td>\n",
       "    </tr>\n",
       "    <tr>\n",
       "      <th>1</th>\n",
       "      <td>1100000</td>\n",
       "      <td>1</td>\n",
       "      <td>single-family home</td>\n",
       "      <td>4138200</td>\n",
       "      <td>1932</td>\n",
       "      <td>900</td>\n",
       "      <td>1222.222222</td>\n",
       "    </tr>\n",
       "    <tr>\n",
       "      <th>2</th>\n",
       "      <td>182000</td>\n",
       "      <td>2</td>\n",
       "      <td>condo</td>\n",
       "      <td>7405</td>\n",
       "      <td>1945</td>\n",
       "      <td>1622</td>\n",
       "      <td>112.207152</td>\n",
       "    </tr>\n",
       "    <tr>\n",
       "      <th>3</th>\n",
       "      <td>169900</td>\n",
       "      <td>1</td>\n",
       "      <td>single-family home</td>\n",
       "      <td>36155</td>\n",
       "      <td>1950</td>\n",
       "      <td>1556</td>\n",
       "      <td>109.190231</td>\n",
       "    </tr>\n",
       "    <tr>\n",
       "      <th>4</th>\n",
       "      <td>148500</td>\n",
       "      <td>1</td>\n",
       "      <td>single-family home</td>\n",
       "      <td>9147</td>\n",
       "      <td>1959</td>\n",
       "      <td>1000</td>\n",
       "      <td>148.500000</td>\n",
       "    </tr>\n",
       "    <tr>\n",
       "      <th>5</th>\n",
       "      <td>444900</td>\n",
       "      <td>6</td>\n",
       "      <td>single-family home</td>\n",
       "      <td>28314</td>\n",
       "      <td>1961</td>\n",
       "      <td>5201</td>\n",
       "      <td>85.541242</td>\n",
       "    </tr>\n",
       "    <tr>\n",
       "      <th>6</th>\n",
       "      <td>178000</td>\n",
       "      <td>2</td>\n",
       "      <td>single-family home</td>\n",
       "      <td>11326</td>\n",
       "      <td>1964</td>\n",
       "      <td>1188</td>\n",
       "      <td>149.831650</td>\n",
       "    </tr>\n",
       "    <tr>\n",
       "      <th>7</th>\n",
       "      <td>209000</td>\n",
       "      <td>2</td>\n",
       "      <td>single-family home</td>\n",
       "      <td>9147</td>\n",
       "      <td>1966</td>\n",
       "      <td>1918</td>\n",
       "      <td>108.967675</td>\n",
       "    </tr>\n",
       "    <tr>\n",
       "      <th>8</th>\n",
       "      <td>349900</td>\n",
       "      <td>2</td>\n",
       "      <td>single-family home</td>\n",
       "      <td>204732</td>\n",
       "      <td>1967</td>\n",
       "      <td>3850</td>\n",
       "      <td>90.883117</td>\n",
       "    </tr>\n",
       "    <tr>\n",
       "      <th>9</th>\n",
       "      <td>1100000</td>\n",
       "      <td>2</td>\n",
       "      <td>single-family home</td>\n",
       "      <td>4356000</td>\n",
       "      <td>1970</td>\n",
       "      <td>2541</td>\n",
       "      <td>432.900433</td>\n",
       "    </tr>\n",
       "  </tbody>\n",
       "</table>\n",
       "</div>"
      ],
      "text/plain": [
       "     price  bathroom           house_type  lot_size  built_in  area  \\\n",
       "0   159900         1   single-family home      5662      1924  1584   \n",
       "1  1100000         1   single-family home   4138200      1932   900   \n",
       "2   182000         2                condo      7405      1945  1622   \n",
       "3   169900         1   single-family home     36155      1950  1556   \n",
       "4   148500         1   single-family home      9147      1959  1000   \n",
       "5   444900         6   single-family home     28314      1961  5201   \n",
       "6   178000         2   single-family home     11326      1964  1188   \n",
       "7   209000         2   single-family home      9147      1966  1918   \n",
       "8   349900         2   single-family home    204732      1967  3850   \n",
       "9  1100000         2   single-family home   4356000      1970  2541   \n",
       "\n",
       "    unit_price  \n",
       "0   100.946970  \n",
       "1  1222.222222  \n",
       "2   112.207152  \n",
       "3   109.190231  \n",
       "4   148.500000  \n",
       "5    85.541242  \n",
       "6   149.831650  \n",
       "7   108.967675  \n",
       "8    90.883117  \n",
       "9   432.900433  "
      ]
     },
     "execution_count": 4,
     "metadata": {},
     "output_type": "execute_result"
    }
   ],
   "source": [
    "df['unit_price'] = df['price']/df['area']\n",
    "df[:10]"
   ]
  },
  {
   "cell_type": "markdown",
   "metadata": {},
   "source": [
    "# 4.1\n",
    "### line chart"
   ]
  },
  {
   "cell_type": "code",
   "execution_count": 5,
   "metadata": {},
   "outputs": [
    {
     "data": {
      "text/plain": [
       "<matplotlib.axes._subplots.AxesSubplot at 0x7fbbf4180160>"
      ]
     },
     "execution_count": 5,
     "metadata": {},
     "output_type": "execute_result"
    },
    {
     "data": {
      "image/png": "[encoded data removed]",
      "text/plain": [
       "<Figure size 432x288 with 1 Axes>"
      ]
     },
     "metadata": {},
     "output_type": "display_data"
    }
   ],
   "source": [
    "avg_unit_price_per_year = df.groupby('built_in').mean()['unit_price']\n",
    "avg_unit_price_per_year.plot()"
   ]
  },
  {
   "cell_type": "markdown",
   "metadata": {},
   "source": [
    "Unit Price per year has decreased since 1930s."
   ]
  },
  {
   "cell_type": "markdown",
   "metadata": {},
   "source": [
    "# 4.2\n",
    "### histogram"
   ]
  },
  {
   "cell_type": "code",
   "execution_count": 6,
   "metadata": {},
   "outputs": [
    {
     "data": {
      "text/plain": [
       "<matplotlib.axes._subplots.AxesSubplot at 0x7fbbf2e37ba8>"
      ]
     },
     "execution_count": 6,
     "metadata": {},
     "output_type": "execute_result"
    },
    {
     "data": {
      "image/png": "[encoded data removed]",
      "text/plain": [
       "<Figure size 432x288 with 1 Axes>"
      ]
     },
     "metadata": {},
     "output_type": "display_data"
    }
   ],
   "source": [
    "df['unit_price'].hist()"
   ]
  },
  {
   "cell_type": "markdown",
   "metadata": {},
   "source": [
    "Most houses have unit price below $200"
   ]
  },
  {
   "cell_type": "markdown",
   "metadata": {},
   "source": [
    "# 4.3\n",
    "### bar chart"
   ]
  },
  {
   "cell_type": "code",
   "execution_count": 7,
   "metadata": {},
   "outputs": [
    {
     "data": {
      "text/plain": [
       "<matplotlib.axes._subplots.AxesSubplot at 0x7fbbeda655f8>"
      ]
     },
     "execution_count": 7,
     "metadata": {},
     "output_type": "execute_result"
    },
    {
     "data": {
      "image/png": "[encoded data removed]",
      "text/plain": [
       "<Figure size 432x288 with 1 Axes>"
      ]
     },
     "metadata": {},
     "output_type": "display_data"
    }
   ],
   "source": [
    "avg_unit_price_per_type = df.groupby('house_type').mean()['unit_price']\n",
    "\n",
    "avg_unit_price_per_type.plot.bar(title = 'Average Unit Prices of Different House Types')"
   ]
  },
  {
   "cell_type": "markdown",
   "metadata": {},
   "source": [
    "Single-family homes have the highest unit price"
   ]
  },
  {
   "cell_type": "markdown",
   "metadata": {},
   "source": [
    "# 4.4\n",
    "### pie chart"
   ]
  },
  {
   "cell_type": "code",
   "execution_count": 12,
   "metadata": {},
   "outputs": [
    {
     "data": {
      "text/plain": [
       "<matplotlib.axes._subplots.AxesSubplot at 0x7fbbed933828>"
      ]
     },
     "execution_count": 12,
     "metadata": {},
     "output_type": "execute_result"
    },
    {
     "data": {
      "image/png": "[encoded data removed]",
      "text/plain": [
       "<Figure size 432x288 with 1 Axes>"
      ]
     },
     "metadata": {},
     "output_type": "display_data"
    }
   ],
   "source": [
    "count_per_house_type = df['house_type'].value_counts()\n",
    "count_per_house_type.plot.pie(title ='Number of Different House Types')"
   ]
  },
  {
   "cell_type": "markdown",
   "metadata": {},
   "source": [
    "Majority of homes are single-family homes"
   ]
  },
  {
   "cell_type": "markdown",
   "metadata": {},
   "source": [
    "# 4.5"
   ]
  },
  {
   "cell_type": "code",
   "execution_count": 9,
   "metadata": {},
   "outputs": [
    {
     "data": {
      "text/plain": [
       "<matplotlib.axes._subplots.AxesSubplot at 0x7fbbeda150f0>"
      ]
     },
     "execution_count": 9,
     "metadata": {},
     "output_type": "execute_result"
    },
    {
     "data": {
      "image/png": "[encoded data removed]",
      "text/plain": [
       "<Figure size 432x288 with 1 Axes>"
      ]
     },
     "metadata": {},
     "output_type": "display_data"
    }
   ],
   "source": [
    "df.plot.scatter(x='area',y='price')"
   ]
  },
  {
   "cell_type": "markdown",
   "metadata": {},
   "source": [
    "Prices increase as Area increases, with the exception of 2 outliers. "
   ]
  },
  {
   "cell_type": "code",
   "execution_count": null,
   "metadata": {},
   "outputs": [],
   "source": []
  }
 ],
 "metadata": {
  "kernelspec": {
   "display_name": "conda_python3",
   "language": "python",
   "name": "conda_python3"
  },
  "language_info": {
   "codemirror_mode": {
    "name": "ipython",
    "version": 3
   },
   "file_extension": ".py",
   "mimetype": "text/x-python",
   "name": "python",
   "nbconvert_exporter": "python",
   "pygments_lexer": "ipython3",
   "version": "3.6.5"
  }
 },
 "nbformat": 4,
 "nbformat_minor": 4
}
